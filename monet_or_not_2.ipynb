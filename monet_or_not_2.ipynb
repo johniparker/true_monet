{
 "cells": [
  {
   "cell_type": "markdown",
   "metadata": {},
   "source": [
    "# A True Monet or Not?"
   ]
  },
  {
   "cell_type": "code",
   "execution_count": null,
   "metadata": {},
   "outputs": [],
   "source": [
    "import os\n",
    "import time\n",
    "import numpy as np\n",
    "import tensorflow as tf\n",
    "import matplotlib.pyplot as plt\n",
    "\n",
    "from tqdm import tqdm\n",
    "from tensorflow.keras import layers"
   ]
  },
  {
   "cell_type": "markdown",
   "metadata": {},
   "source": [
    "# Load Data"
   ]
  },
  {
   "cell_type": "code",
   "execution_count": null,
   "metadata": {},
   "outputs": [],
   "source": [
    "batch_size = 20\n",
    "\n",
    "train_dataset = tf.keras.preprocessing.image_dataset_from_directory(\n",
    "    './gan-getting-started/monet_jpg', label_mode = None, image_size = (64, 64), batch_size = batch_size\n",
    ")\n",
    "\n",
    "train_dataset = train_dataset.map(lambda x: (x / 127.5) - 1)"
   ]
  },
  {
   "cell_type": "code",
   "execution_count": null,
   "metadata": {},
   "outputs": [],
   "source": [
    "plt.figure(figsize = (12, 8))\n",
    "\n",
    "for images in train_dataset.take(1):\n",
    "    for i in range(5):\n",
    "        ax = plt.subplot(5, 5, i + 1)\n",
    "        plt.imshow(images[i].numpy())\n",
    "        plt.axis(\"off\")"
   ]
  },
  {
   "cell_type": "code",
   "execution_count": null,
   "metadata": {},
   "outputs": [],
   "source": [
    "for batch in train_dataset:\n",
    "    plt.imshow(batch[0])\n",
    "    print('Image_shape', batch[0].shape)\n",
    "    break"
   ]
  },
  {
   "cell_type": "markdown",
   "metadata": {},
   "source": [
    "# Generator Model"
   ]
  },
  {
   "cell_type": "code",
   "execution_count": null,
   "metadata": {},
   "outputs": [],
   "source": [
    "init_weights_kernel = tf.keras.initializers.RandomNormal(mean = 0.0, stddev = 0.02)"
   ]
  },
  {
   "cell_type": "code",
   "execution_count": null,
   "metadata": {},
   "outputs": [],
   "source": [
    "def generator_model():\n",
    "    model = tf.keras.Sequential()\n",
    "\n",
    "    model.add(layers.Input(shape = (100, )))\n",
    "    model.add(layers.Dense(4 * 4 * 256))\n",
    "    model.add(layers.BatchNormalization())\n",
    "    model.add(layers.ReLU())\n",
    "    model.add(layers.Reshape((4, 4, 256)))\n",
    "\n",
    "    # model.add(layers.Conv2DTranspose(256, kernel_size=4, padding='same', strides = 2, kernel_initializer=init_weights_kernel, use_bias=False))\n",
    "    # model.add(layers.BatchNormalization())\n",
    "    # model.add(layers.ReLU())\n",
    "\n",
    "    model.add(layers.Conv2DTranspose(128, kernel_size=4, padding='same', strides = 2, kernel_initializer=init_weights_kernel, use_bias=False))\n",
    "    model.add(layers.BatchNormalization())\n",
    "    model.add(layers.ReLU())\n",
    "\n",
    "    model.add(layers.Conv2DTranspose(64, kernel_size=4, padding='same', strides = 2, kernel_initializer=init_weights_kernel, use_bias=False))\n",
    "    model.add(layers.BatchNormalization())\n",
    "    model.add(layers.ReLU())\n",
    "\n",
    "    model.add(layers.Conv2DTranspose(32, kernel_size=4, padding='same', strides = 2, kernel_initializer=init_weights_kernel, use_bias=False))\n",
    "    model.add(layers.BatchNormalization())\n",
    "    model.add(layers.ReLU())\n",
    "\n",
    "    model.add(layers.Conv2DTranspose(3, kernel_size=4, padding='same', strides=2, activation='tanh', kernel_initializer=init_weights_kernel, use_bias=False))\n",
    "\n",
    "    return model"
   ]
  },
  {
   "cell_type": "code",
   "execution_count": null,
   "metadata": {},
   "outputs": [],
   "source": [
    "generator = generator_model()\n",
    "generator.summary()"
   ]
  },
  {
   "cell_type": "code",
   "execution_count": null,
   "metadata": {},
   "outputs": [],
   "source": [
    "noise = tf.random.normal([1, 100])\n",
    "\n",
    "generated_image = generator(noise, training = False)\n",
    "\n",
    "generated_image.shape"
   ]
  },
  {
   "cell_type": "code",
   "execution_count": null,
   "metadata": {},
   "outputs": [],
   "source": [
    "generated_image[0, :5, :5]"
   ]
  },
  {
   "cell_type": "code",
   "execution_count": null,
   "metadata": {},
   "outputs": [],
   "source": [
    "plt.imshow ((generated_image[0, :, :, :] * 255 * 100))"
   ]
  },
  {
   "cell_type": "markdown",
   "metadata": {},
   "source": [
    "# Discriminator Model"
   ]
  },
  {
   "cell_type": "code",
   "execution_count": null,
   "metadata": {},
   "outputs": [],
   "source": [
    "def discriminator_model():\n",
    "    model = tf.keras.Sequential()\n",
    "\n",
    "    model.add(layers.Conv2D(32, kernel_size = 3, strides = 2, input_shape = (64, 64, 3), padding = 'same', kernel_initializer=init_weights_kernel, use_bias=False))\n",
    "    model.add(layers.LeakyReLU(alpha = 0.2))\n",
    "    model.add(layers.Dropout(0.3))\n",
    "\n",
    "    model.add(layers.Conv2D(64, kernel_size = 3, strides = 2, padding = 'same', kernel_initializer=init_weights_kernel, use_bias=False))\n",
    "    model.add(layers.ZeroPadding2D(padding = ((0, 1), (0, 1))))\n",
    "    model.add(layers.BatchNormalization())\n",
    "    model.add(layers.LeakyReLU(alpha =0.2))\n",
    "    model.add(layers.Dropout(0.25))\n",
    "\n",
    "    model.add(layers.Conv2D(128, kernel_size = 3, strides = 2, padding = 'same', kernel_initializer=init_weights_kernel, use_bias=False))\n",
    "    model.add(layers.BatchNormalization())\n",
    "    model.add(layers.LeakyReLU(alpha = 0.2))\n",
    "    model.add(layers.Dropout(0.3))\n",
    "\n",
    "    model.add(layers.Conv2D(256, kernel_size = 3, strides = 1, padding = 'same', kernel_initializer=init_weights_kernel, use_bias=False))\n",
    "    model.add(layers.BatchNormalization())\n",
    "    model.add(layers.LeakyReLU(alpha = 0.2))\n",
    "    model.add(layers.Dropout(0.3))\n",
    "\n",
    "    # model.add(layers.Conv2D(512, kernel_size = 3, strides = 1, padding = 'same', kernel_initializer=init_weights_kernel, use_bias=False))\n",
    "    # model.add(layers.BatchNormalization())\n",
    "    # model.add(layers.LeakyReLU(alpha = 0.2))\n",
    "    # model.add(layers.Dropout(0.3))\n",
    "\n",
    "    model.add(layers.Flatten())\n",
    "    model.add(layers.Dense(1, activation = 'sigmoid'))\n",
    "\n",
    "    return model"
   ]
  },
  {
   "cell_type": "code",
   "execution_count": null,
   "metadata": {},
   "outputs": [],
   "source": [
    "discriminator = discriminator_model()\n",
    "\n",
    "discriminator.summary()"
   ]
  },
  {
   "cell_type": "code",
   "execution_count": null,
   "metadata": {},
   "outputs": [],
   "source": [
    "output = discriminator(generated_image)\n",
    "print(output)"
   ]
  },
  {
   "cell_type": "markdown",
   "metadata": {},
   "source": [
    "# Training the GAN"
   ]
  },
  {
   "cell_type": "code",
   "execution_count": null,
   "metadata": {},
   "outputs": [],
   "source": [
    "bce = tf.keras.losses.BinaryCrossentropy()"
   ]
  },
  {
   "cell_type": "code",
   "execution_count": null,
   "metadata": {},
   "outputs": [],
   "source": [
    "def discriminator_loss(real_output, fake_output):\n",
    "    real_loss = bce(tf.ones_like(real_output), real_output)\n",
    "    fake_loss = bce(tf.zeros_like(fake_output), fake_output)\n",
    "\n",
    "    total_loss = real_loss + fake_loss\n",
    "\n",
    "    return total_loss"
   ]
  },
  {
   "cell_type": "code",
   "execution_count": null,
   "metadata": {},
   "outputs": [],
   "source": [
    "def generator_loss(fake_output):\n",
    "    gen_loss = bce(tf.ones_like(fake_output), fake_output)\n",
    "\n",
    "    return gen_loss"
   ]
  },
  {
   "cell_type": "code",
   "execution_count": null,
   "metadata": {},
   "outputs": [],
   "source": [
    "generator_optimizer = tf.keras.optimizers.Adam(learning_rate = 0.0002, beta_1 = 0.5)\n",
    "discriminator_optimizer = tf.keras.optimizers.Adam(learning_rate = 0.0002, beta_1 = 0.5)"
   ]
  },
  {
   "cell_type": "code",
   "execution_count": null,
   "metadata": {},
   "outputs": [],
   "source": [
    "checkpoint_dir = './training_checkpoints'\n",
    "checkpoint_prefix = os.path.join(checkpoint_dir, \"ckpt\")\n",
    "checkpoint = tf.train.Checkpoint(generator_optimizer = generator_optimizer, discriminator_optimizer = discriminator_optimizer, generator = generator, discriminator = discriminator)"
   ]
  },
  {
   "cell_type": "code",
   "execution_count": null,
   "metadata": {},
   "outputs": [],
   "source": [
    "epochs = 1000\n",
    "noise_dim = 100\n",
    "num_examples_to_generate = 4\n",
    "\n",
    "seed = tf.random.normal([num_examples_to_generate, noise_dim])"
   ]
  },
  {
   "cell_type": "code",
   "execution_count": null,
   "metadata": {},
   "outputs": [],
   "source": [
    "def generate_and_plot_images(model, epoch, test_input):\n",
    "    predictions = model(test_input, training = False)\n",
    "\n",
    "    fig = plt.figure(figsize = (8, 4))\n",
    "\n",
    "    for i in range(predictions.shape[0]):\n",
    "        plt.subplot(4, 4, i + 1)\n",
    "        plt.imshow((predictions[i, :, :, :] * 0.5 + 0.5))\n",
    "        plt.axis(\"off\")\n",
    "\n",
    "    # plt.savefig('image_at_epoch_{:04d}.png'.format(epoch))\n",
    "    plt.show()"
   ]
  },
  {
   "cell_type": "code",
   "execution_count": null,
   "metadata": {},
   "outputs": [],
   "source": [
    "@tf.function\n",
    "def train_step(images):\n",
    "    noise = tf.random.normal([batch_size, noise_dim])\n",
    "\n",
    "    with tf.GradientTape() as gen_tape, tf.GradientTape() as disc_tape:\n",
    "        generated_images = generator(noise, training = True)\n",
    "\n",
    "        real_output = discriminator(images, training = True)\n",
    "        fake_output = discriminator(generated_images, training = True)\n",
    "\n",
    "        gen_loss = generator_loss(fake_output)\n",
    "        disc_loss = discriminator_loss(real_output, fake_output)\n",
    "\n",
    "    gradients_of_generator = gen_tape.gradient(gen_loss, generator.trainable_variables)\n",
    "    gradients_of_discriminator = disc_tape.gradient(disc_loss, discriminator.trainable_variables)\n",
    "\n",
    "    generator_optimizer.apply_gradients(zip(gradients_of_generator, generator.trainable_variables))\n",
    "    discriminator_optimizer.apply_gradients(zip(gradients_of_discriminator, discriminator.trainable_variables))\n",
    "\n",
    "    return (gen_loss, disc_loss, tf.reduce_mean(real_output), tf.reduce_mean(fake_output))"
   ]
  },
  {
   "cell_type": "code",
   "execution_count": null,
   "metadata": {},
   "outputs": [],
   "source": [
    "def train(dataset, epochs):\n",
    "    gen_loss_list = []\n",
    "    disc_loss_list = []\n",
    "\n",
    "    real_score_list = []\n",
    "    fake_score_list = []\n",
    "\n",
    "    for epoch in tqdm(range(epochs)):\n",
    "        start = time.time()\n",
    "        num_batches = len(dataset)\n",
    "\n",
    "        print(f\"Training started with epoch {epoch + 1} with {num_batches} batches..\")\n",
    "\n",
    "        total_gen_loss = 0\n",
    "        total_disc_loss = 0\n",
    "\n",
    "        for batch in dataset:\n",
    "            generator_loss, discriminator_loss, real_score, fake_score = train_step(batch)\n",
    "\n",
    "            total_gen_loss += generator_loss\n",
    "            total_disc_loss += discriminator_loss\n",
    "\n",
    "        mean_gen_loss = total_gen_loss / num_batches\n",
    "        mean_disc_loss = total_disc_loss / num_batches\n",
    "\n",
    "        print(\"Losses after epoch %5d: generator %.3d, discriminator %.3f, real_score %.2f%%, fake_score %.2f%%\" % (epoch + 1, generator_loss, discriminator_loss, real_score * 100, fake_score * 100))\n",
    "\n",
    "        generate_and_plot_images(generator, epoch + 1, seed)\n",
    "\n",
    "        gen_loss_list.append(mean_gen_loss)\n",
    "        disc_loss_list.append(mean_disc_loss)\n",
    "        real_score_list.append(real_score)\n",
    "        fake_score_list.append(fake_score)\n",
    "\n",
    "        if (epoch + 1) % 10 == 0:\n",
    "            checkpoint.save(file_prefix = checkpoint_prefix)\n",
    "\n",
    "        print(\"Time for epoch {} is {} sec\".format(epoch + 1, time.time() - start))\n",
    "\n",
    "    return gen_loss_list, disc_loss_list, real_score_list, fake_score_list"
   ]
  },
  {
   "cell_type": "code",
   "execution_count": null,
   "metadata": {},
   "outputs": [],
   "source": [
    "gen_loss_epochs, disc_loss_epochs, real_score_list, fake_score_list = train(train_dataset, epochs = epochs)"
   ]
  },
  {
   "cell_type": "code",
   "execution_count": null,
   "metadata": {},
   "outputs": [],
   "source": [
    "fig, (ax1, ax2) = plt.subplots(1, 2, figsize = (12, 8))\n",
    "\n",
    "ax1.plot(gen_loss_epochs, label = \"Generator loss\", alpha = 0.5)\n",
    "ax1.plot(disc_loss_epochs, label = \"Discriminator loss\", alpha = 0.5)\n",
    "ax1.legend()\n",
    "ax1.set_title(\"Training Losses\")\n",
    "\n",
    "ax2.plot(real_score_list, label = \"Real score\", alpha = 0.5)\n",
    "ax2.plot(fake_score_list, label = \"Fake score\", alpha = 0.5)\n",
    "ax2.legend()\n",
    "ax2.set_title(\"Accuracy Scores\")"
   ]
  }
 ],
 "metadata": {
  "kernelspec": {
   "display_name": "base",
   "language": "python",
   "name": "python3"
  },
  "language_info": {
   "codemirror_mode": {
    "name": "ipython",
    "version": 3
   },
   "file_extension": ".py",
   "mimetype": "text/x-python",
   "name": "python",
   "nbconvert_exporter": "python",
   "pygments_lexer": "ipython3",
   "version": "3.12.4"
  }
 },
 "nbformat": 4,
 "nbformat_minor": 2
}
